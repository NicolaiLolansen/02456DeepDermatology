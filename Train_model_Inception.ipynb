{
 "cells": [
  {
   "cell_type": "markdown",
   "metadata": {},
   "source": [
    "# 02456 Deep Learning - Acne Vulgaris vs Acne Rosacea\n",
    "\n",
    "# Train last layer of Inception\n",
    "\n",
    "__Note__ the best performance was *not* obtained by this Keras implementation, but the Google implementation, which is linked in the references. In theory they should be the same, but the Keras implementation is not performing as good. In the report the google implementation is marked as the best performing model, and can be tested using the notebook \"Evaluate_model_retrain.ipynb\" which uses the best model (And therefore not this model). \n",
    "\n",
    "This notebook is just to show how to train a Keras implementation of the Inception V3 Model, if you want to evaluate some of your own images, use the Evaluate notebooks, which contains already trained networks. "
   ]
  },
  {
   "cell_type": "markdown",
   "metadata": {},
   "source": [
    "### Model: Retrain last layer of Inception V3 - Using Keras\n",
    "\n",
    "Authors:\n",
    "* s134859 Nicolai Mogensen\n",
    "* s134569 Tobias Slot Jensen\n",
    "* s144242 David Frich Hansen\n",
    "\n",
    "References:\n",
    "* The Google Transfer Learning implementation: https://www.tensorflow.org/tutorials/image_retraining\n",
    "\n",
    "##### Network was trained using a GTX 1080 Ti. If you experience OOM errors, it is probably because the network does not fit into your memory. "
   ]
  },
  {
   "cell_type": "code",
   "execution_count": 1,
   "metadata": {},
   "outputs": [
    {
     "name": "stderr",
     "output_type": "stream",
     "text": [
      "/opt/miniconda3/envs/jupyterhub/lib/python3.6/importlib/_bootstrap.py:205: RuntimeWarning: compiletime version 3.5 of module 'tensorflow.python.framework.fast_tensor_util' does not match runtime version 3.6\n",
      "  return f(*args, **kwds)\n",
      "Using TensorFlow backend.\n"
     ]
    }
   ],
   "source": [
    "DIM = 299\n",
    "import numpy as np\n",
    "from label_image import *\n",
    "import glob\n",
    "import os\n",
    "from pathlib import Path\n",
    "import matplotlib.image as mpimg\n",
    "from sklearn.model_selection import train_test_split\n",
    "#from PIL import Image,ImageOps\n",
    "from skimage.io import imread\n",
    "from skimage.transform import resize\n",
    "from keras.layers import (Activation, Dense, Dropout, Flatten,\n",
    "                          Lambda, MaxPooling2D)\n",
    "from keras.layers.convolutional import Conv2D\n",
    "from keras.layers.advanced_activations import LeakyReLU\n",
    "from keras.layers.normalization import BatchNormalization\n",
    "from keras.models import Sequential, model_from_json, Model\n",
    "from keras.regularizers import l2\n",
    "from keras.utils import np_utils\n",
    "from spatial_transformer import SpatialTransformer\n",
    "from keras.applications import InceptionV3\n",
    "import pickle\n",
    "\n",
    "from keras.callbacks import ModelCheckpoint,LambdaCallback,Callback\n",
    "from keras.optimizers import Adam\n",
    "import matplotlib.pyplot as plt\n",
    "import matplotlib.gridspec as gridspec\n",
    "from sklearn.preprocessing import MinMaxScaler\n",
    "from scipy.special import expit\n",
    "import keras.backend as K"
   ]
  },
  {
   "cell_type": "code",
   "execution_count": 2,
   "metadata": {
    "collapsed": true
   },
   "outputs": [],
   "source": [
    "#Load the pickled data, this data is NOT uploaded as it is confidential\n",
    "with open('images.pickle', 'rb') as handle:\n",
    "    data = pickle.load(handle)\n"
   ]
  },
  {
   "cell_type": "code",
   "execution_count": 3,
   "metadata": {
    "collapsed": true
   },
   "outputs": [],
   "source": [
    "def conv_model(input_shape=(299, 299,3)):\n",
    "  \n",
    "    model = Sequential()\n",
    "    model.add(Lambda(\n",
    "        lambda x: x,\n",
    "        input_shape=input_shape,\n",
    "        output_shape=input_shape))\n",
    "    \n",
    "    inc_v3 = InceptionV3(include_top=False, weights='imagenet', pooling='max',classes=2)\n",
    " \n",
    "    # Don't train the layers, as everything is already trained\n",
    "    for layer in inc_v3.layers:\n",
    "        layer.trainable = False\n",
    "    \n",
    "    model.add(inc_v3)\n",
    "    output = Dense(2, activation='softmax')\n",
    "    \n",
    "    model.add(output)\n",
    "\n",
    "    return model"
   ]
  },
  {
   "cell_type": "code",
   "execution_count": 6,
   "metadata": {},
   "outputs": [
    {
     "name": "stdout",
     "output_type": "stream",
     "text": [
      "_________________________________________________________________\n",
      "Layer (type)                 Output Shape              Param #   \n",
      "=================================================================\n",
      "lambda_2 (Lambda)            (None, 299, 299, 3)       0         \n",
      "_________________________________________________________________\n",
      "inception_v3 (Model)         (None, 2048)              21802784  \n",
      "_________________________________________________________________\n",
      "dense_2 (Dense)              (None, 2)                 4098      \n",
      "=================================================================\n",
      "Total params: 21,806,882\n",
      "Trainable params: 4,098\n",
      "Non-trainable params: 21,802,784\n",
      "_________________________________________________________________\n"
     ]
    }
   ],
   "source": [
    "batch_size = 64\n",
    "epochs = 100\n",
    "model = conv_model()\n",
    "\n",
    "model.summary()\n",
    "adam = Adam(lr=0.001, beta_1=0.9, beta_2=0.999, epsilon=1e-08, decay=0.01)\n",
    "\n",
    "model.compile(loss='sparse_categorical_crossentropy',\n",
    "              optimizer=adam,metrics=['accuracy'])"
   ]
  },
  {
   "cell_type": "code",
   "execution_count": 7,
   "metadata": {
    "scrolled": false
   },
   "outputs": [
    {
     "name": "stdout",
     "output_type": "stream",
     "text": [
      "Train on 1026 samples, validate on 114 samples\n",
      "Epoch 1/100\n",
      "1026/1026 [==============================] - 6s - loss: 1.6729 - acc: 0.4990 - val_loss: 1.4211 - val_acc: 0.4123\n",
      "Epoch 2/100\n",
      "1026/1026 [==============================] - 5s - loss: 1.2547 - acc: 0.5478 - val_loss: 1.3931 - val_acc: 0.4474\n",
      "Epoch 3/100\n",
      "1026/1026 [==============================] - 5s - loss: 0.9403 - acc: 0.6023 - val_loss: 1.5134 - val_acc: 0.5175\n",
      "Epoch 4/100\n",
      "1026/1026 [==============================] - 5s - loss: 1.0253 - acc: 0.6179 - val_loss: 0.9267 - val_acc: 0.6053\n",
      "Epoch 5/100\n",
      "1026/1026 [==============================] - 5s - loss: 0.7187 - acc: 0.6881 - val_loss: 0.8128 - val_acc: 0.6404\n",
      "Epoch 6/100\n",
      "1026/1026 [==============================] - 5s - loss: 0.7162 - acc: 0.6852 - val_loss: 0.8364 - val_acc: 0.6491\n",
      "Epoch 7/100\n",
      "1026/1026 [==============================] - 5s - loss: 0.6715 - acc: 0.6998 - val_loss: 0.7538 - val_acc: 0.6754\n",
      "Epoch 8/100\n",
      "1026/1026 [==============================] - 5s - loss: 0.6427 - acc: 0.7125 - val_loss: 0.6322 - val_acc: 0.7807\n",
      "Epoch 9/100\n",
      "1026/1026 [==============================] - 5s - loss: 0.6233 - acc: 0.7271 - val_loss: 0.6420 - val_acc: 0.7368\n",
      "Epoch 10/100\n",
      "1026/1026 [==============================] - 5s - loss: 0.6680 - acc: 0.7066 - val_loss: 0.7775 - val_acc: 0.6842\n",
      "Epoch 11/100\n",
      "1026/1026 [==============================] - 5s - loss: 0.5893 - acc: 0.7476 - val_loss: 0.5970 - val_acc: 0.7544\n",
      "Epoch 12/100\n",
      "1026/1026 [==============================] - 5s - loss: 0.5662 - acc: 0.7417 - val_loss: 0.6129 - val_acc: 0.7632\n",
      "Epoch 13/100\n",
      "1026/1026 [==============================] - 5s - loss: 0.5622 - acc: 0.7671 - val_loss: 0.5759 - val_acc: 0.7632\n",
      "Epoch 14/100\n",
      "1026/1026 [==============================] - 5s - loss: 0.5203 - acc: 0.7680 - val_loss: 0.5927 - val_acc: 0.7544\n",
      "Epoch 15/100\n",
      "1026/1026 [==============================] - 5s - loss: 0.5033 - acc: 0.7865 - val_loss: 0.5942 - val_acc: 0.7456\n",
      "Epoch 16/100\n",
      "1026/1026 [==============================] - 5s - loss: 0.5175 - acc: 0.7758 - val_loss: 0.5748 - val_acc: 0.7807\n",
      "Epoch 17/100\n",
      "1026/1026 [==============================] - 5s - loss: 0.5597 - acc: 0.7739 - val_loss: 0.6466 - val_acc: 0.7632\n",
      "Epoch 18/100\n",
      "1026/1026 [==============================] - 5s - loss: 0.4765 - acc: 0.7846 - val_loss: 0.6725 - val_acc: 0.7456\n",
      "Epoch 19/100\n",
      "1026/1026 [==============================] - 5s - loss: 0.5078 - acc: 0.7661 - val_loss: 0.6726 - val_acc: 0.7632\n",
      "Epoch 20/100\n",
      "1026/1026 [==============================] - 5s - loss: 0.5771 - acc: 0.7690 - val_loss: 0.5933 - val_acc: 0.7544\n",
      "Epoch 21/100\n",
      "1026/1026 [==============================] - 5s - loss: 0.4606 - acc: 0.7875 - val_loss: 0.6045 - val_acc: 0.7368\n",
      "Epoch 22/100\n",
      "1026/1026 [==============================] - 5s - loss: 0.5542 - acc: 0.7554 - val_loss: 0.5721 - val_acc: 0.7632\n",
      "Epoch 23/100\n",
      "1026/1026 [==============================] - 5s - loss: 0.5328 - acc: 0.7739 - val_loss: 0.5425 - val_acc: 0.7807\n",
      "Epoch 24/100\n",
      "1026/1026 [==============================] - 5s - loss: 0.4418 - acc: 0.7992 - val_loss: 0.5448 - val_acc: 0.7719\n",
      "Epoch 25/100\n",
      "1026/1026 [==============================] - 5s - loss: 0.4183 - acc: 0.8051 - val_loss: 0.5397 - val_acc: 0.7982\n",
      "Epoch 26/100\n",
      "1026/1026 [==============================] - 5s - loss: 0.4667 - acc: 0.8051 - val_loss: 0.5380 - val_acc: 0.7982\n",
      "Epoch 27/100\n",
      "1026/1026 [==============================] - 5s - loss: 0.4398 - acc: 0.8080 - val_loss: 0.5439 - val_acc: 0.7719\n",
      "Epoch 28/100\n",
      "1026/1026 [==============================] - 5s - loss: 0.4524 - acc: 0.8099 - val_loss: 0.5641 - val_acc: 0.7632\n",
      "Epoch 29/100\n",
      "1026/1026 [==============================] - 5s - loss: 0.4859 - acc: 0.7895 - val_loss: 0.5789 - val_acc: 0.7456\n",
      "Epoch 30/100\n",
      "1026/1026 [==============================] - 5s - loss: 0.4114 - acc: 0.8109 - val_loss: 0.5471 - val_acc: 0.7632\n",
      "Epoch 31/100\n",
      "1026/1026 [==============================] - 5s - loss: 0.4271 - acc: 0.8129 - val_loss: 0.5493 - val_acc: 0.7632\n",
      "Epoch 32/100\n",
      "1026/1026 [==============================] - 5s - loss: 0.4373 - acc: 0.8119 - val_loss: 0.6602 - val_acc: 0.7456\n",
      "Epoch 33/100\n",
      "1026/1026 [==============================] - 5s - loss: 0.4334 - acc: 0.8216 - val_loss: 0.5457 - val_acc: 0.7807\n",
      "Epoch 34/100\n",
      "1026/1026 [==============================] - 5s - loss: 0.3987 - acc: 0.8236 - val_loss: 0.5498 - val_acc: 0.7807\n",
      "Epoch 35/100\n",
      "1026/1026 [==============================] - 5s - loss: 0.4282 - acc: 0.8119 - val_loss: 0.5582 - val_acc: 0.7544\n",
      "Epoch 36/100\n",
      "1026/1026 [==============================] - 5s - loss: 0.4191 - acc: 0.8197 - val_loss: 0.5472 - val_acc: 0.7632\n",
      "Epoch 37/100\n",
      "1026/1026 [==============================] - 5s - loss: 0.3922 - acc: 0.8324 - val_loss: 0.5581 - val_acc: 0.7544\n",
      "Epoch 38/100\n",
      "1026/1026 [==============================] - 5s - loss: 0.4186 - acc: 0.8168 - val_loss: 0.5639 - val_acc: 0.7632\n",
      "Epoch 39/100\n",
      "1026/1026 [==============================] - 5s - loss: 0.3841 - acc: 0.8314 - val_loss: 0.5475 - val_acc: 0.7807\n",
      "Epoch 40/100\n",
      "1026/1026 [==============================] - 5s - loss: 0.3861 - acc: 0.8343 - val_loss: 0.5663 - val_acc: 0.7632\n",
      "Epoch 41/100\n",
      "1026/1026 [==============================] - 5s - loss: 0.4014 - acc: 0.8255 - val_loss: 0.5374 - val_acc: 0.7895\n",
      "Epoch 42/100\n",
      "1026/1026 [==============================] - 5s - loss: 0.4162 - acc: 0.8158 - val_loss: 0.5659 - val_acc: 0.7544\n",
      "Epoch 43/100\n",
      "1026/1026 [==============================] - 5s - loss: 0.4035 - acc: 0.8314 - val_loss: 0.5399 - val_acc: 0.7895\n",
      "Epoch 44/100\n",
      "1026/1026 [==============================] - 5s - loss: 0.3957 - acc: 0.8275 - val_loss: 0.5440 - val_acc: 0.7807\n",
      "Epoch 45/100\n",
      "1026/1026 [==============================] - 5s - loss: 0.3821 - acc: 0.8255 - val_loss: 0.5468 - val_acc: 0.7807\n",
      "Epoch 46/100\n",
      "1026/1026 [==============================] - 5s - loss: 0.3850 - acc: 0.8304 - val_loss: 0.5420 - val_acc: 0.7807\n",
      "Epoch 47/100\n",
      "1026/1026 [==============================] - 5s - loss: 0.3666 - acc: 0.8431 - val_loss: 0.5501 - val_acc: 0.7719\n",
      "Epoch 48/100\n",
      "1026/1026 [==============================] - 5s - loss: 0.4153 - acc: 0.8207 - val_loss: 0.5491 - val_acc: 0.7807\n",
      "Epoch 49/100\n",
      "1026/1026 [==============================] - 5s - loss: 0.3914 - acc: 0.8285 - val_loss: 0.5450 - val_acc: 0.7719\n",
      "Epoch 50/100\n",
      "1026/1026 [==============================] - 5s - loss: 0.3787 - acc: 0.8421 - val_loss: 0.5796 - val_acc: 0.7632\n",
      "Epoch 51/100\n",
      "1026/1026 [==============================] - 5s - loss: 0.3738 - acc: 0.8431 - val_loss: 0.5588 - val_acc: 0.7719\n",
      "Epoch 52/100\n",
      "1026/1026 [==============================] - 5s - loss: 0.3681 - acc: 0.8431 - val_loss: 0.5319 - val_acc: 0.7982\n",
      "Epoch 53/100\n",
      "1026/1026 [==============================] - 5s - loss: 0.3678 - acc: 0.8431 - val_loss: 0.5309 - val_acc: 0.7719\n",
      "Epoch 54/100\n",
      "1026/1026 [==============================] - 5s - loss: 0.3685 - acc: 0.8509 - val_loss: 0.5327 - val_acc: 0.7807\n",
      "Epoch 55/100\n",
      "1026/1026 [==============================] - 5s - loss: 0.3838 - acc: 0.8470 - val_loss: 0.5351 - val_acc: 0.7807\n",
      "Epoch 56/100\n",
      "1026/1026 [==============================] - 5s - loss: 0.3471 - acc: 0.8441 - val_loss: 0.5271 - val_acc: 0.7807\n",
      "Epoch 57/100\n",
      "1026/1026 [==============================] - 5s - loss: 0.3464 - acc: 0.8441 - val_loss: 0.5300 - val_acc: 0.7895\n",
      "Epoch 58/100\n",
      "1026/1026 [==============================] - 5s - loss: 0.4097 - acc: 0.8226 - val_loss: 0.5249 - val_acc: 0.7632\n",
      "Epoch 59/100\n",
      "1026/1026 [==============================] - 5s - loss: 0.4256 - acc: 0.8187 - val_loss: 0.5486 - val_acc: 0.7719\n",
      "Epoch 60/100\n",
      "1026/1026 [==============================] - 5s - loss: 0.3677 - acc: 0.8470 - val_loss: 0.5213 - val_acc: 0.7807\n",
      "Epoch 61/100\n",
      "1026/1026 [==============================] - 5s - loss: 0.3707 - acc: 0.8441 - val_loss: 0.5229 - val_acc: 0.7719\n",
      "Epoch 62/100\n",
      "1026/1026 [==============================] - 5s - loss: 0.3315 - acc: 0.8587 - val_loss: 0.5159 - val_acc: 0.7807\n",
      "Epoch 63/100\n",
      "1026/1026 [==============================] - 5s - loss: 0.3529 - acc: 0.8450 - val_loss: 0.5275 - val_acc: 0.7895\n",
      "Epoch 64/100\n",
      "1026/1026 [==============================] - 5s - loss: 0.3604 - acc: 0.8460 - val_loss: 0.5368 - val_acc: 0.7632\n",
      "Epoch 65/100\n"
     ]
    },
    {
     "name": "stdout",
     "output_type": "stream",
     "text": [
      "1026/1026 [==============================] - 5s - loss: 0.3818 - acc: 0.8333 - val_loss: 0.5247 - val_acc: 0.7719\n",
      "Epoch 66/100\n",
      "1026/1026 [==============================] - 5s - loss: 0.3464 - acc: 0.8499 - val_loss: 0.5172 - val_acc: 0.7719\n",
      "Epoch 67/100\n",
      "1026/1026 [==============================] - 5s - loss: 0.3637 - acc: 0.8441 - val_loss: 0.5291 - val_acc: 0.7895\n",
      "Epoch 68/100\n",
      "1026/1026 [==============================] - 5s - loss: 0.3962 - acc: 0.8324 - val_loss: 0.5550 - val_acc: 0.7632\n",
      "Epoch 69/100\n",
      "1026/1026 [==============================] - 5s - loss: 0.3887 - acc: 0.8265 - val_loss: 0.5440 - val_acc: 0.7632\n",
      "Epoch 70/100\n",
      "1026/1026 [==============================] - 5s - loss: 0.3477 - acc: 0.8489 - val_loss: 0.5275 - val_acc: 0.7632\n",
      "Epoch 71/100\n",
      "1026/1026 [==============================] - 5s - loss: 0.3223 - acc: 0.8626 - val_loss: 0.5276 - val_acc: 0.7807\n",
      "Epoch 72/100\n",
      "1026/1026 [==============================] - 5s - loss: 0.3565 - acc: 0.8577 - val_loss: 0.5298 - val_acc: 0.7456\n",
      "Epoch 73/100\n",
      "1026/1026 [==============================] - 5s - loss: 0.3336 - acc: 0.8665 - val_loss: 0.5209 - val_acc: 0.7807\n",
      "Epoch 74/100\n",
      "1026/1026 [==============================] - 5s - loss: 0.3290 - acc: 0.8567 - val_loss: 0.5229 - val_acc: 0.7544\n",
      "Epoch 75/100\n",
      "1026/1026 [==============================] - 5s - loss: 0.3585 - acc: 0.8382 - val_loss: 0.5190 - val_acc: 0.7807\n",
      "Epoch 76/100\n",
      "1026/1026 [==============================] - 5s - loss: 0.3414 - acc: 0.8363 - val_loss: 0.5261 - val_acc: 0.7544\n",
      "Epoch 77/100\n",
      "1026/1026 [==============================] - 5s - loss: 0.3399 - acc: 0.8431 - val_loss: 0.5122 - val_acc: 0.7895\n",
      "Epoch 78/100\n",
      "1026/1026 [==============================] - 5s - loss: 0.3316 - acc: 0.8587 - val_loss: 0.5098 - val_acc: 0.7895\n",
      "Epoch 79/100\n",
      "1026/1026 [==============================] - 5s - loss: 0.3757 - acc: 0.8353 - val_loss: 0.5247 - val_acc: 0.7632\n",
      "Epoch 80/100\n",
      "1026/1026 [==============================] - 5s - loss: 0.3525 - acc: 0.8450 - val_loss: 0.5159 - val_acc: 0.7982\n",
      "Epoch 81/100\n",
      "1026/1026 [==============================] - 5s - loss: 0.3340 - acc: 0.8548 - val_loss: 0.5173 - val_acc: 0.7544\n",
      "Epoch 82/100\n",
      "1026/1026 [==============================] - 5s - loss: 0.3375 - acc: 0.8616 - val_loss: 0.5135 - val_acc: 0.7895\n",
      "Epoch 83/100\n",
      "1026/1026 [==============================] - 5s - loss: 0.3224 - acc: 0.8626 - val_loss: 0.5151 - val_acc: 0.7719\n",
      "Epoch 84/100\n",
      "1026/1026 [==============================] - 5s - loss: 0.3124 - acc: 0.8665 - val_loss: 0.5139 - val_acc: 0.7895\n",
      "Epoch 85/100\n",
      "1026/1026 [==============================] - 5s - loss: 0.3393 - acc: 0.8460 - val_loss: 0.5112 - val_acc: 0.7807\n",
      "Epoch 86/100\n",
      "1026/1026 [==============================] - 5s - loss: 0.3317 - acc: 0.8548 - val_loss: 0.5134 - val_acc: 0.7807\n",
      "Epoch 87/100\n",
      "1026/1026 [==============================] - 5s - loss: 0.3126 - acc: 0.8665 - val_loss: 0.5257 - val_acc: 0.7719\n",
      "Epoch 88/100\n",
      "1026/1026 [==============================] - 5s - loss: 0.3707 - acc: 0.8265 - val_loss: 0.5105 - val_acc: 0.7807\n",
      "Epoch 89/100\n",
      "1026/1026 [==============================] - 5s - loss: 0.3545 - acc: 0.8548 - val_loss: 0.5095 - val_acc: 0.7719\n",
      "Epoch 90/100\n",
      "1026/1026 [==============================] - 5s - loss: 0.3220 - acc: 0.8519 - val_loss: 0.5098 - val_acc: 0.7719\n",
      "Epoch 91/100\n",
      "1026/1026 [==============================] - 5s - loss: 0.3205 - acc: 0.8626 - val_loss: 0.5222 - val_acc: 0.7632\n",
      "Epoch 92/100\n",
      "1026/1026 [==============================] - 5s - loss: 0.3452 - acc: 0.8441 - val_loss: 0.5112 - val_acc: 0.7807\n",
      "Epoch 93/100\n",
      "1026/1026 [==============================] - 5s - loss: 0.3188 - acc: 0.8626 - val_loss: 0.5124 - val_acc: 0.7632\n",
      "Epoch 94/100\n",
      "1026/1026 [==============================] - 5s - loss: 0.3219 - acc: 0.8528 - val_loss: 0.5167 - val_acc: 0.7982\n",
      "Epoch 95/100\n",
      "1026/1026 [==============================] - 5s - loss: 0.3484 - acc: 0.8441 - val_loss: 0.5120 - val_acc: 0.7632\n",
      "Epoch 96/100\n",
      "1026/1026 [==============================] - 5s - loss: 0.3460 - acc: 0.8402 - val_loss: 0.5118 - val_acc: 0.7895\n",
      "Epoch 97/100\n",
      "1026/1026 [==============================] - 5s - loss: 0.3571 - acc: 0.8450 - val_loss: 0.5149 - val_acc: 0.7719\n",
      "Epoch 98/100\n",
      "1026/1026 [==============================] - 5s - loss: 0.3670 - acc: 0.8382 - val_loss: 0.5105 - val_acc: 0.7807\n",
      "Epoch 99/100\n",
      "1026/1026 [==============================] - 5s - loss: 0.3094 - acc: 0.8752 - val_loss: 0.5096 - val_acc: 0.7982\n",
      "Epoch 100/100\n",
      "1026/1026 [==============================] - 5s - loss: 0.3139 - acc: 0.8743 - val_loss: 0.5113 - val_acc: 0.7719\n"
     ]
    }
   ],
   "source": [
    "# Keras does validation splits for us, so combine the Training and Validation data, and let Keras split it. \n",
    "data[\"X_train_c\"] = np.concatenate((data[\"X_train\"],data[\"X_valid\"]),axis=0)\n",
    "data[\"y_train_c\"] = np.concatenate((data[\"y_train\"],data[\"y_valid\"]),axis=0)\n",
    "\n",
    "try:\n",
    "    model.fit(data[\"X_train_c\"], data[\"y_train_c\"],\n",
    "                batch_size=batch_size,\n",
    "                epochs=epochs,\n",
    "                validation_split=0.1,\n",
    "                shuffle=True,\n",
    "                callbacks=[])\n",
    "                \n",
    "except KeyboardInterrupt:\n",
    "    print(\"training interrupted\")\n"
   ]
  },
  {
   "cell_type": "markdown",
   "metadata": {},
   "source": [
    "# Performance and AUC"
   ]
  },
  {
   "cell_type": "code",
   "execution_count": 8,
   "metadata": {},
   "outputs": [
    {
     "name": "stdout",
     "output_type": "stream",
     "text": [
      "60/60 [==============================] - 0s     \n",
      "[0.50668757756551108, 0.75000000794728594]\n"
     ]
    }
   ],
   "source": [
    "# Evaluate model on test set\n",
    "score = model.evaluate(x=data[\"X_test\"], y=data[\"y_test\"])\n",
    "print(score)"
   ]
  },
  {
   "cell_type": "code",
   "execution_count": 9,
   "metadata": {},
   "outputs": [
    {
     "data": {
      "image/png": "[encoded data removed]",
      "text/plain": [
       "<matplotlib.figure.Figure at 0x7fde7464fc50>"
      ]
     },
     "metadata": {},
     "output_type": "display_data"
    },
    {
     "name": "stdout",
     "output_type": "stream",
     "text": [
      "Accuracy: 0.750000007947\n",
      "Specificity: 0.774193548387\n",
      "Sensitivity: 0.724137931034\n"
     ]
    }
   ],
   "source": [
    "from performance_measures import *\n",
    "\n",
    "y_prob = model.predict(data[\"X_test\"])\n",
    "y_pred = np.argmax(y_prob,axis=1)\n",
    "y_true = data[\"y_test\"]\n",
    "\n",
    "AUC = get_roc_auc(y_true,y_prob[:,1])\n",
    "accuracy = score[1]\n",
    "\n",
    "#True Negative Rate 0,0\n",
    "specificity = get_specificity(y_true,y_pred)\n",
    "#True Positive Rate 1,1\n",
    "sensitivity = get_sensitivity(y_true,y_pred)\n",
    "\n",
    "print(\"Accuracy:\",accuracy)\n",
    "print(\"Specificity:\",specificity)\n",
    "print(\"Sensitivity:\",sensitivity)"
   ]
  },
  {
   "cell_type": "markdown",
   "metadata": {},
   "source": [
    "# Save Model"
   ]
  },
  {
   "cell_type": "code",
   "execution_count": 10,
   "metadata": {
    "collapsed": true
   },
   "outputs": [],
   "source": [
    "model.save('inckeras.h5') "
   ]
  }
 ],
 "metadata": {
  "kernelspec": {
   "display_name": "Python 3",
   "language": "python",
   "name": "python3"
  },
  "language_info": {
   "codemirror_mode": {
    "name": "ipython",
    "version": 3
   },
   "file_extension": ".py",
   "mimetype": "text/x-python",
   "name": "python",
   "nbconvert_exporter": "python",
   "pygments_lexer": "ipython3",
   "version": "3.6.2"
  }
 },
 "nbformat": 4,
 "nbformat_minor": 2
}
