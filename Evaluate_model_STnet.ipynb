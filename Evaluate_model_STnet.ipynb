{
 "cells": [
  {
   "cell_type": "markdown",
   "metadata": {},
   "source": [
    "# 02456 Deep Learning - Acne Vulgaris vs Acne Rosacea"
   ]
  },
  {
   "cell_type": "markdown",
   "metadata": {},
   "source": [
    "\n",
    "### Model: Retrain last layer of Inception V3 - With Spatial Transformer\n",
    "\n",
    "#### Load the weights of the trained Inception V3 model, the weights of the trained localization net and evaluate some test images found using google image search (As provided training data is classified)\n",
    "\n",
    "This notebook is used to show that the network works, by classifying an input image containing lesions of either Acne Vulgaris or Acne Rosacea. It is possible to use your own images by changing or adding the vector of image URLS. The network outputs a transformed image, and a probability of class A or B. \n",
    "\n",
    "Authors:\n",
    "* s134859\n",
    "* sxxxxxx\n",
    "* sxxxxxx\n",
    "\n",
    "References:"
   ]
  },
  {
   "cell_type": "code",
   "execution_count": null,
   "metadata": {
    "collapsed": true
   },
   "outputs": [],
   "source": []
  }
 ],
 "metadata": {
  "kernelspec": {
   "display_name": "Python 3",
   "language": "python",
   "name": "python3"
  },
  "language_info": {
   "codemirror_mode": {
    "name": "ipython",
    "version": 3
   },
   "file_extension": ".py",
   "mimetype": "text/x-python",
   "name": "python",
   "nbconvert_exporter": "python",
   "pygments_lexer": "ipython3",
   "version": "3.6.2"
  }
 },
 "nbformat": 4,
 "nbformat_minor": 2
}
